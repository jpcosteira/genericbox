{
 "cells": [
  {
   "cell_type": "markdown",
   "id": "c04526e6-8f48-42ac-afde-7d8dda770feb",
   "metadata": {
    "editable": true,
    "slideshow": {
     "slide_type": ""
    },
    "tags": []
   },
   "source": [
    "# Generic Box\n",
    "This code communicates with a component. The component was launched with the command below from the root of the repository:\n",
    "\n",
    "```shell\n",
    "$ docker run --rm -it -p 4061:8061 -v ./src/external1.py=/workspace/external.py generic\n",
    "```\n"
   ]
  },
  {
   "cell_type": "code",
   "execution_count": 1,
   "id": "03414be6-450d-4ec1-9bd2-6aab13d4156f",
   "metadata": {},
   "outputs": [],
   "source": [
    "import argparse\n",
    "import grpc\n",
    "import io\n",
    "import matplotlib.pyplot as plt\n",
    "from importlib.machinery import SourceFileLoader\n",
    "image_generic_pb2 = SourceFileLoader(\"image_generic_pb2\",\"../protos/image_generic_pb2.py\").load_module()\n",
    "image_generic_pb2_grpc = SourceFileLoader(\"image_generic_pb2_grpc\",\"../protos/image_generic_pb2_grpc.py\").load_module()\n",
    "#import image_generic_pb2\n",
    "#import image_generic_pb2_grpc\n",
    "import PIL.Image as PIL_image\n",
    "import numpy as np\n",
    "import cv2"
   ]
  },
  {
   "cell_type": "code",
   "execution_count": 5,
   "id": "a6b1cb06-49df-42d5-8f12-1a4bb3c90295",
   "metadata": {},
   "outputs": [],
   "source": [
    "def process_image(stub, image_path):\n",
    "    print(f'Processing image: \\'{image_path}\\'')\n",
    "    with open(image_path, 'rb') as fp:\n",
    "        image_bytes = fp.read()\n",
    "    request = image_generic_pb2.Image(data=image_bytes)\n",
    "    return stub.process(request)\n",
    "\n",
    "\n",
    "def display_image(image):\n",
    "    img = PIL_image.open(io.BytesIO(image.data))\n",
    "    ax = plt.gca()\n",
    "    ax.imshow(img)\n",
    "    plt.show()\n",
    "\n",
    "def plot_features(img,kp):\n",
    "    for p in kp:\n",
    "        cv2.circle(img,(int(p[0]),int(p[1])), 3, (0,0,255), -1)\n",
    "    ax =plt.gca()\n",
    "    ax.imshow(img)\n",
    "    plt.show()\n",
    "\n",
    "def parse_args():\n",
    "    \"\"\"\n",
    "    Parse arguments for test setup\n",
    "\n",
    "    Returns:\n",
    "        The arguments for the test\n",
    "    \"\"\"\n",
    "    parser = argparse.ArgumentParser(description='Test for OpenPose gRPC Service')\n",
    "    parser.add_argument(\n",
    "        'image',\n",
    "        help='Path to the image to send to the server')\n",
    "    parser.add_argument(\n",
    "        '--target',\n",
    "        metavar='target',\n",
    "        default='sipgpu1.isrnet:4061',\n",
    "        help='Location of the tested server (defaults to localhost:8061)')\n",
    "    return parser.parse_args()"
   ]
  },
  {
   "cell_type": "markdown",
   "id": "760efcd5-5bd7-48eb-9cd3-6300f5b14f28",
   "metadata": {},
   "source": [
    "## Set parameters (GRPC) and data\n",
    "Set IP and port of the service (the same used in docker run), input data (image in a matfile) and call the service"
   ]
  },
  {
   "cell_type": "code",
   "execution_count": 16,
   "id": "f87cb3c8-88e0-4399-b42b-c58b689c7d58",
   "metadata": {},
   "outputs": [],
   "source": [
    "target='sipgpu1.isrnet:4061'\n",
    "image_path='../images/eiffel.mat'\n",
    "#Para imagens muito grandes buffer grande\n",
    "channel_opt = [('grpc.max_send_message_length', 512 * 1024 * 1024), ('grpc.max_receive_message_length', 512 * 1024 * 1024)]\n",
    "with grpc.insecure_channel(target,options=channel_opt) as channel:\n",
    "    estimator_stub = image_generic_pb2_grpc.ImageGenericServiceStub(channel)\n",
    "    #response = process_image(estimator_stub, image_path)\n",
    "    with open(image_path, 'rb') as fp:\n",
    "        image_bytes = fp.read()\n",
    "    request = image_generic_pb2.Image(data=image_bytes)\n",
    "    response=estimator_stub.process(request)"
   ]
  },
  {
   "cell_type": "markdown",
   "id": "eff604b3-dee2-48ab-81f9-189266bf8df7",
   "metadata": {},
   "source": [
    "# Check output"
   ]
  },
  {
   "cell_type": "code",
   "execution_count": 18,
   "id": "e0424a79-f0df-4925-83a5-313cdee9752f",
   "metadata": {},
   "outputs": [],
   "source": [
    "f=open(\"../images/output2.mat\",\"wb\")\n",
    "f.write(response.data)\n",
    "f.close()"
   ]
  },
  {
   "cell_type": "markdown",
   "id": "b8af09de-3877-4575-ad26-8fa9499392ce",
   "metadata": {},
   "source": [
    "For a python script include the cell below generate a .py file (instead of ipynb)"
   ]
  },
  {
   "cell_type": "code",
   "execution_count": null,
   "id": "47f4cf28-7574-4737-957b-64eca32dfb1d",
   "metadata": {},
   "outputs": [],
   "source": [
    "if __name__ == '__main__':\n",
    "    args = parse_args()\n",
    "    target = args.target\n",
    "    image_path = args.image\n",
    "    with grpc.insecure_channel(target) as channel:\n",
    "        estimator_stub = image_generic_pb2_grpc.ImageGenericServiceStub(channel)\n",
    "        try:\n",
    "            response = process_image(estimator_stub, image_path)\n",
    "            display_image(response)\n",
    "        except grpc.RpcError as rpc_error:\n",
    "            print('An error has occurred:')\n",
    "            print(f'  Error Code: {rpc_error.code()}')\n",
    "            print(f'  Details: {rpc_error.details()}')"
   ]
  },
  {
   "cell_type": "code",
   "execution_count": null,
   "id": "846d800c-eb59-4ca4-8cb3-7d3725b40792",
   "metadata": {},
   "outputs": [],
   "source": [
    "a=np.array([9, 8, 7])"
   ]
  },
  {
   "cell_type": "code",
   "execution_count": null,
   "id": "dfeb8afd-a7c4-4df8-8723-16d29aca9838",
   "metadata": {},
   "outputs": [],
   "source": []
  }
 ],
 "metadata": {
  "kernelspec": {
   "display_name": "Python 3 (ipykernel)",
   "language": "python",
   "name": "python3"
  },
  "language_info": {
   "codemirror_mode": {
    "name": "ipython",
    "version": 3
   },
   "file_extension": ".py",
   "mimetype": "text/x-python",
   "name": "python",
   "nbconvert_exporter": "python",
   "pygments_lexer": "ipython3",
   "version": "3.11.9"
  }
 },
 "nbformat": 4,
 "nbformat_minor": 5
}
