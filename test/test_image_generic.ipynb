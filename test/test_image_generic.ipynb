{
 "cells": [
  {
   "cell_type": "code",
   "execution_count": 1,
   "id": "03414be6-450d-4ec1-9bd2-6aab13d4156f",
   "metadata": {},
   "outputs": [],
   "source": [
    "# Test for the estimation of a single image key-points\n",
    "\n",
    "import argparse\n",
    "import grpc\n",
    "import io\n",
    "import matplotlib.pyplot as plt\n",
    "#from importlib.machinery import SourceFileLoader\n",
    "#image_generic_pb2 = SourceFileLoader(\"image_generic_pb2\",\"../protos/image_generic_pb2.py\").load_module()\n",
    "#image_generic_pb2_grpc = SourceFileLoader(\"image_generic_pb2_grpc\",\"../protos/image_generic_pb2_grpc.py\").load_module()\n",
    "import image_generic_pb2\n",
    "import image_generic_pb2_grpc\n",
    "import PIL.Image as PIL_image\n",
    "import numpy as np\n",
    "import cv2"
   ]
  },
  {
   "cell_type": "code",
   "execution_count": 2,
   "id": "a6b1cb06-49df-42d5-8f12-1a4bb3c90295",
   "metadata": {},
   "outputs": [],
   "source": [
    "def process_image(stub, image_path):\n",
    "    print(f'Processing image: \\'{image_path}\\'')\n",
    "    with open(image_path, 'rb') as fp:\n",
    "        image_bytes = fp.read()\n",
    "    request = image_generic_pb2.Image(data=image_bytes)\n",
    "    return stub.process(request)\n",
    "\n",
    "\n",
    "def display_image(image):\n",
    "    img = PIL_image.open(io.BytesIO(image.data))\n",
    "    ax = plt.gca()\n",
    "    ax.imshow(img)\n",
    "    plt.show()\n",
    "\n",
    "def plot_features(img,kp):\n",
    "    for p in kp:\n",
    "        cv2.circle(img,(int(p[0]),int(p[1])), 3, (0,0,255), -1)\n",
    "    ax =plt.gca()\n",
    "    ax.imshow(img)\n",
    "    plt.show()\n",
    "\n",
    "def parse_args():\n",
    "    \"\"\"\n",
    "    Parse arguments for test setup\n",
    "\n",
    "    Returns:\n",
    "        The arguments for the test\n",
    "    \"\"\"\n",
    "    parser = argparse.ArgumentParser(description='Test for OpenPose gRPC Service')\n",
    "    parser.add_argument(\n",
    "        'image',\n",
    "        help='Path to the image to send to the server')\n",
    "    parser.add_argument(\n",
    "        '--target',\n",
    "        metavar='target',\n",
    "        default='10.0.14.13:4061',\n",
    "        help='Location of the tested server (defaults to localhost:8061)')\n",
    "    return parser.parse_args()"
   ]
  },
  {
   "cell_type": "code",
   "execution_count": 7,
   "id": "f87cb3c8-88e0-4399-b42b-c58b689c7d58",
   "metadata": {},
   "outputs": [
    {
     "ename": "_InactiveRpcError",
     "evalue": "<_InactiveRpcError of RPC that terminated with:\n\tstatus = StatusCode.UNKNOWN\n\tdetails = \"Exception calling application: module 'image_generic_pb2' has no attribute 'ImageImage'\"\n\tdebug_error_string = \"UNKNOWN:Error received from peer ipv6:%5B::1%5D:4061 {grpc_message:\"Exception calling application: module \\'image_generic_pb2\\' has no attribute \\'ImageImage\\'\", grpc_status:2, created_time:\"2024-06-13T00:49:51.077903+00:00\"}\"\n>",
     "output_type": "error",
     "traceback": [
      "\u001b[1;31m---------------------------------------------------------------------------\u001b[0m",
      "\u001b[1;31m_InactiveRpcError\u001b[0m                         Traceback (most recent call last)",
      "Cell \u001b[1;32mIn[7], line 11\u001b[0m\n\u001b[0;32m      9\u001b[0m     image_bytes \u001b[38;5;241m=\u001b[39m fp\u001b[38;5;241m.\u001b[39mread()\n\u001b[0;32m     10\u001b[0m request \u001b[38;5;241m=\u001b[39m image_generic_pb2\u001b[38;5;241m.\u001b[39mImage(data\u001b[38;5;241m=\u001b[39mimage_bytes)\n\u001b[1;32m---> 11\u001b[0m response\u001b[38;5;241m=\u001b[39m\u001b[43mestimator_stub\u001b[49m\u001b[38;5;241;43m.\u001b[39;49m\u001b[43mprocess\u001b[49m\u001b[43m(\u001b[49m\u001b[43mrequest\u001b[49m\u001b[43m)\u001b[49m\n",
      "File \u001b[1;32m~\\AppData\\Local\\Packages\\PythonSoftwareFoundation.Python.3.12_qbz5n2kfra8p0\\LocalCache\\local-packages\\Python312\\site-packages\\grpc\\_channel.py:1181\u001b[0m, in \u001b[0;36m_UnaryUnaryMultiCallable.__call__\u001b[1;34m(self, request, timeout, metadata, credentials, wait_for_ready, compression)\u001b[0m\n\u001b[0;32m   1166\u001b[0m \u001b[38;5;28;01mdef\u001b[39;00m \u001b[38;5;21m__call__\u001b[39m(\n\u001b[0;32m   1167\u001b[0m     \u001b[38;5;28mself\u001b[39m,\n\u001b[0;32m   1168\u001b[0m     request: Any,\n\u001b[1;32m   (...)\u001b[0m\n\u001b[0;32m   1173\u001b[0m     compression: Optional[grpc\u001b[38;5;241m.\u001b[39mCompression] \u001b[38;5;241m=\u001b[39m \u001b[38;5;28;01mNone\u001b[39;00m,\n\u001b[0;32m   1174\u001b[0m ) \u001b[38;5;241m-\u001b[39m\u001b[38;5;241m>\u001b[39m Any:\n\u001b[0;32m   1175\u001b[0m     (\n\u001b[0;32m   1176\u001b[0m         state,\n\u001b[0;32m   1177\u001b[0m         call,\n\u001b[0;32m   1178\u001b[0m     ) \u001b[38;5;241m=\u001b[39m \u001b[38;5;28mself\u001b[39m\u001b[38;5;241m.\u001b[39m_blocking(\n\u001b[0;32m   1179\u001b[0m         request, timeout, metadata, credentials, wait_for_ready, compression\n\u001b[0;32m   1180\u001b[0m     )\n\u001b[1;32m-> 1181\u001b[0m     \u001b[38;5;28;01mreturn\u001b[39;00m \u001b[43m_end_unary_response_blocking\u001b[49m\u001b[43m(\u001b[49m\u001b[43mstate\u001b[49m\u001b[43m,\u001b[49m\u001b[43m \u001b[49m\u001b[43mcall\u001b[49m\u001b[43m,\u001b[49m\u001b[43m \u001b[49m\u001b[38;5;28;43;01mFalse\u001b[39;49;00m\u001b[43m,\u001b[49m\u001b[43m \u001b[49m\u001b[38;5;28;43;01mNone\u001b[39;49;00m\u001b[43m)\u001b[49m\n",
      "File \u001b[1;32m~\\AppData\\Local\\Packages\\PythonSoftwareFoundation.Python.3.12_qbz5n2kfra8p0\\LocalCache\\local-packages\\Python312\\site-packages\\grpc\\_channel.py:1006\u001b[0m, in \u001b[0;36m_end_unary_response_blocking\u001b[1;34m(state, call, with_call, deadline)\u001b[0m\n\u001b[0;32m   1004\u001b[0m         \u001b[38;5;28;01mreturn\u001b[39;00m state\u001b[38;5;241m.\u001b[39mresponse\n\u001b[0;32m   1005\u001b[0m \u001b[38;5;28;01melse\u001b[39;00m:\n\u001b[1;32m-> 1006\u001b[0m     \u001b[38;5;28;01mraise\u001b[39;00m _InactiveRpcError(state)\n",
      "\u001b[1;31m_InactiveRpcError\u001b[0m: <_InactiveRpcError of RPC that terminated with:\n\tstatus = StatusCode.UNKNOWN\n\tdetails = \"Exception calling application: module 'image_generic_pb2' has no attribute 'ImageImage'\"\n\tdebug_error_string = \"UNKNOWN:Error received from peer ipv6:%5B::1%5D:4061 {grpc_message:\"Exception calling application: module \\'image_generic_pb2\\' has no attribute \\'ImageImage\\'\", grpc_status:2, created_time:\"2024-06-13T00:49:51.077903+00:00\"}\"\n>"
     ]
    }
   ],
   "source": [
    "target='localhost:4061'\n",
    "image_path='image.mat'\n",
    "#Para imagens muito grandes\n",
    "channel_opt = [('grpc.max_send_message_length', 512 * 1024 * 1024), ('grpc.max_receive_message_length', 512 * 1024 * 1024)]\n",
    "with grpc.insecure_channel(target,options=channel_opt) as channel:\n",
    "    estimator_stub = image_generic_pb2_grpc.ImageGenericServiceStub(channel)\n",
    "    #response = process_image(estimator_stub, image_path)\n",
    "    with open(image_path, 'rb') as fp:\n",
    "        image_bytes = fp.read()\n",
    "    request = image_generic_pb2.Image(data=image_bytes)\n",
    "    response=estimator_stub.process(request)"
   ]
  },
  {
   "cell_type": "code",
   "execution_count": null,
   "id": "5b933495-7c3d-48bd-b81e-510175c5dd19",
   "metadata": {},
   "outputs": [],
   "source": [
    "kp=np.frombuffer(response.features.data,dtype='float32').reshape(response.features.numrows,response.features.numcols)\n",
    "desc=np.frombuffer(response.descriptors.data,dtype='float32').reshape(response.descriptors.numrows,response.descriptors.numcols)\n",
    "img=cv2.cvtColor(cv2.imdecode(np.frombuffer(response.img.data,dtype='uint8'), cv2.IMREAD_COLOR), cv2.COLOR_BGR2RGB)\n",
    "plot_features(img,kp)"
   ]
  },
  {
   "cell_type": "code",
   "execution_count": null,
   "id": "9bec780e-f215-49b9-b145-0c200c092a05",
   "metadata": {},
   "outputs": [],
   "source": [
    "lixo=cv2.imencode('.jpg',img)"
   ]
  },
  {
   "cell_type": "code",
   "execution_count": null,
   "id": "7c0a93e4-8ff4-45f8-a03f-91b1aff38dc1",
   "metadata": {},
   "outputs": [],
   "source": [
    "im2=cv2.imdecode(lixo,cv2.IMREAD_COLOR)"
   ]
  },
  {
   "cell_type": "code",
   "execution_count": null,
   "id": "6590b84d-c731-4b64-9b2b-92ccd1688bed",
   "metadata": {},
   "outputs": [],
   "source": [
    "gray= cv2.cvtColor(img,cv2.COLOR_BGR2GRAY)\n",
    "sift = cv2.SIFT_create()\n",
    "kp,desc = sift.detectAndCompute(gray,None)    \n"
   ]
  },
  {
   "cell_type": "code",
   "execution_count": null,
   "id": "27fad1d8-2612-4470-9a40-7b38ee4139fb",
   "metadata": {},
   "outputs": [],
   "source": [
    "output_image = cv2.drawKeypoints(gray,kp, 0, (255, 0, 0),\n",
    "                                 flags=cv2.DRAW_MATCHES_FLAGS_NOT_DRAW_SINGLE_POINTS)\n",
    "plt.imshow(output_image)\n",
    "plt.show()"
   ]
  },
  {
   "cell_type": "code",
   "execution_count": null,
   "id": "47f4cf28-7574-4737-957b-64eca32dfb1d",
   "metadata": {},
   "outputs": [],
   "source": [
    "if __name__ == '__main__':\n",
    "    args = parse_args()\n",
    "    target = args.target\n",
    "    image_path = args.image\n",
    "    with grpc.insecure_channel(target) as channel:\n",
    "        estimator_stub = image_generic_pb2_grpc.ImageGenericServiceStub(channel)\n",
    "        try:\n",
    "            response = process_image(estimator_stub, image_path)\n",
    "            display_image(response)\n",
    "        except grpc.RpcError as rpc_error:\n",
    "            print('An error has occurred:')\n",
    "            print(f'  Error Code: {rpc_error.code()}')\n",
    "            print(f'  Details: {rpc_error.details()}')"
   ]
  },
  {
   "cell_type": "code",
   "execution_count": null,
   "id": "846d800c-eb59-4ca4-8cb3-7d3725b40792",
   "metadata": {},
   "outputs": [],
   "source": [
    "a=np.array([9, 8, 7])"
   ]
  },
  {
   "cell_type": "code",
   "execution_count": null,
   "id": "dfeb8afd-a7c4-4df8-8723-16d29aca9838",
   "metadata": {},
   "outputs": [],
   "source": []
  }
 ],
 "metadata": {
  "kernelspec": {
   "display_name": "Python 3 (ipykernel)",
   "language": "python",
   "name": "python3"
  },
  "language_info": {
   "codemirror_mode": {
    "name": "ipython",
    "version": 3
   },
   "file_extension": ".py",
   "mimetype": "text/x-python",
   "name": "python",
   "nbconvert_exporter": "python",
   "pygments_lexer": "ipython3",
   "version": "3.12.4"
  }
 },
 "nbformat": 4,
 "nbformat_minor": 5
}
